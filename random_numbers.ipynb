{
 "cells": [
  {
   "cell_type": "code",
   "execution_count": 1,
   "id": "af248824",
   "metadata": {},
   "outputs": [],
   "source": [
    "#Import the random module.\n",
    "import random"
   ]
  },
  {
   "cell_type": "code",
   "execution_count": 2,
   "id": "5f1bbd47",
   "metadata": {},
   "outputs": [
    {
     "data": {
      "text/plain": [
       "-64"
      ]
     },
     "execution_count": 2,
     "metadata": {},
     "output_type": "execute_result"
    }
   ],
   "source": [
    "random.randint(-90, 90)"
   ]
  },
  {
   "cell_type": "code",
   "execution_count": 3,
   "id": "7aea5904",
   "metadata": {},
   "outputs": [
    {
     "data": {
      "text/plain": [
       "0.9402829850243151"
      ]
     },
     "execution_count": 3,
     "metadata": {},
     "output_type": "execute_result"
    }
   ],
   "source": [
    "random.random()"
   ]
  },
  {
   "cell_type": "code",
   "execution_count": 4,
   "id": "fb4d74a9",
   "metadata": {},
   "outputs": [
    {
     "data": {
      "text/plain": [
       "-22.457515864271173"
      ]
     },
     "execution_count": 4,
     "metadata": {},
     "output_type": "execute_result"
    }
   ],
   "source": [
    "random_number = random.randint(-90, 89) + random.random()\n",
    "random_number"
   ]
  },
  {
   "cell_type": "code",
   "execution_count": 8,
   "id": "e3a64f19",
   "metadata": {},
   "outputs": [
    {
     "name": "stdout",
     "output_type": "stream",
     "text": [
      "[-29.642913528323973]\n",
      "[-29.642913528323973, -39.66896917349515]\n",
      "[-29.642913528323973, -39.66896917349515, 3.0686069162137706]\n",
      "[-29.642913528323973, -39.66896917349515, 3.0686069162137706, 59.49079749448991]\n",
      "[-29.642913528323973, -39.66896917349515, 3.0686069162137706, 59.49079749448991, -84.43547406858816]\n",
      "[-29.642913528323973, -39.66896917349515, 3.0686069162137706, 59.49079749448991, -84.43547406858816, -85.19405342392038]\n",
      "[-29.642913528323973, -39.66896917349515, 3.0686069162137706, 59.49079749448991, -84.43547406858816, -85.19405342392038, -16.9613696775323]\n",
      "[-29.642913528323973, -39.66896917349515, 3.0686069162137706, 59.49079749448991, -84.43547406858816, -85.19405342392038, -16.9613696775323, -61.71242909097581]\n",
      "[-29.642913528323973, -39.66896917349515, 3.0686069162137706, 59.49079749448991, -84.43547406858816, -85.19405342392038, -16.9613696775323, -61.71242909097581, 64.77771076493572]\n",
      "[-29.642913528323973, -39.66896917349515, 3.0686069162137706, 59.49079749448991, -84.43547406858816, -85.19405342392038, -16.9613696775323, -61.71242909097581, 64.77771076493572, 41.58265661167583]\n"
     ]
    }
   ],
   "source": [
    "x = 1\n",
    "latitudes =[]\n",
    "while x < 11:\n",
    "    random_lat =random.randint(-90, 89) + random.random()\n",
    "    latitudes.append(random_lat)\n",
    "    x += 1\n",
    "    print (latitudes)"
   ]
  },
  {
   "cell_type": "code",
   "execution_count": 9,
   "id": "39b66e42",
   "metadata": {},
   "outputs": [
    {
     "data": {
      "text/plain": [
       "-38"
      ]
     },
     "execution_count": 9,
     "metadata": {},
     "output_type": "execute_result"
    }
   ],
   "source": [
    "random.randrange(-90, 90, step=1)"
   ]
  },
  {
   "cell_type": "code",
   "execution_count": 10,
   "id": "5c7b3ca2",
   "metadata": {},
   "outputs": [
    {
     "data": {
      "text/plain": [
       "6"
      ]
     },
     "execution_count": 10,
     "metadata": {},
     "output_type": "execute_result"
    }
   ],
   "source": [
    "random.randrange(-90, 90, step=3)"
   ]
  },
  {
   "cell_type": "code",
   "execution_count": 11,
   "id": "d6fd9d93",
   "metadata": {},
   "outputs": [
    {
     "data": {
      "text/plain": [
       "43.51953616909151"
      ]
     },
     "execution_count": 11,
     "metadata": {},
     "output_type": "execute_result"
    }
   ],
   "source": [
    "random.uniform(-90, 90)"
   ]
  },
  {
   "cell_type": "code",
   "execution_count": 12,
   "id": "e32b3533",
   "metadata": {},
   "outputs": [],
   "source": [
    "#Import the NumPy module.\n",
    "import numpy as np"
   ]
  },
  {
   "cell_type": "code",
   "execution_count": 13,
   "id": "40a48453",
   "metadata": {},
   "outputs": [
    {
     "data": {
      "text/plain": [
       "7.9890594115534554"
      ]
     },
     "execution_count": 13,
     "metadata": {},
     "output_type": "execute_result"
    }
   ],
   "source": [
    "np.random.uniform(-90.000, 90.000)"
   ]
  },
  {
   "cell_type": "code",
   "execution_count": 14,
   "id": "15f698c3",
   "metadata": {},
   "outputs": [
    {
     "data": {
      "text/plain": [
       "35.235430561124346"
      ]
     },
     "execution_count": 14,
     "metadata": {},
     "output_type": "execute_result"
    }
   ],
   "source": [
    "np.random.uniform(low=-90, high=90)"
   ]
  },
  {
   "cell_type": "code",
   "execution_count": 15,
   "id": "eb2b2326",
   "metadata": {},
   "outputs": [
    {
     "data": {
      "text/plain": [
       "array([ 16.63834458, -76.35304177,  65.21548315,  81.22784649,\n",
       "        -9.2847567 , -32.9268687 , -67.53016072,  79.30890796,\n",
       "        62.13830078,  64.07466509, -31.65992315, -77.05158596,\n",
       "       -71.34910267, -40.47061964, -53.45390358,  -0.66695148,\n",
       "        70.52778988,  74.11184183, -55.75190674, -88.39798178,\n",
       "         9.79248522,  65.87588839,  -6.4956516 , -69.4638274 ,\n",
       "       -48.88668176,  30.54833838, -66.26988762,  21.86219445,\n",
       "       -24.04130679, -53.87418566,  23.26458515, -30.49772062,\n",
       "       -20.43445622, -35.48652705, -28.20681997,  10.36099237,\n",
       "        82.30730621,   5.97554086,  89.53223576,  12.34170685,\n",
       "        12.95281662,  19.03396615,  -6.83800068, -73.24766517,\n",
       "        22.99911633,  89.25417384,  80.80373767,  29.50600402,\n",
       "        -3.03396528,  27.73195527])"
      ]
     },
     "execution_count": 15,
     "metadata": {},
     "output_type": "execute_result"
    }
   ],
   "source": [
    "np.random.uniform(-90.000, 90.000, size=50)"
   ]
  },
  {
   "cell_type": "code",
   "execution_count": 16,
   "id": "2f49a191",
   "metadata": {},
   "outputs": [],
   "source": [
    "#Import timeit.\n",
    "import timeit"
   ]
  },
  {
   "cell_type": "code",
   "execution_count": 17,
   "id": "7c5d76e9",
   "metadata": {},
   "outputs": [
    {
     "name": "stdout",
     "output_type": "stream",
     "text": [
      "14.7 µs ± 769 ns per loop (mean ± std. dev. of 7 runs, 100000 loops each)\n"
     ]
    }
   ],
   "source": [
    "%timeit np.random.uniform(-90.000, 90.000, size=1500)"
   ]
  },
  {
   "cell_type": "code",
   "execution_count": 20,
   "id": "64c4e29e",
   "metadata": {},
   "outputs": [
    {
     "name": "stdout",
     "output_type": "stream",
     "text": [
      "1.69 ms ± 101 µs per loop (mean ± std. dev. of 7 runs, 1000 loops each)\n"
     ]
    }
   ],
   "source": [
    "def latitudes(size):\n",
    "    latitudes = []\n",
    "    x = 0\n",
    "    while x < (size):\n",
    "        random_lat = random.randint(-90, 90) + random.random()\n",
    "        latitudes.append(random_lat)\n",
    "        x += 1\n",
    "    return latitudes\n",
    "#call the function with 1500.\n",
    "%timeit latitudes(1500)"
   ]
  },
  {
   "cell_type": "code",
   "execution_count": null,
   "id": "5ed69837",
   "metadata": {},
   "outputs": [],
   "source": []
  }
 ],
 "metadata": {
  "kernelspec": {
   "display_name": "PythonData",
   "language": "python",
   "name": "pythondata"
  },
  "language_info": {
   "codemirror_mode": {
    "name": "ipython",
    "version": 3
   },
   "file_extension": ".py",
   "mimetype": "text/x-python",
   "name": "python",
   "nbconvert_exporter": "python",
   "pygments_lexer": "ipython3",
   "version": "3.7.10"
  }
 },
 "nbformat": 4,
 "nbformat_minor": 5
}
